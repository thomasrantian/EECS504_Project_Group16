{
 "cells": [
  {
   "cell_type": "markdown",
   "metadata": {},
   "source": [
    "# Import packages"
   ]
  },
  {
   "cell_type": "code",
   "execution_count": 3,
   "metadata": {},
   "outputs": [
    {
     "name": "stdout",
     "output_type": "stream",
     "text": [
      "Packages loaded\n"
     ]
    }
   ],
   "source": [
    "# Import the packages \n",
    "from model_lib import *\n",
    "from model_builder import *\n",
    "from external_function_lib import *\n",
    "from packages_lib import *\n",
    "from keras.models import load_model\n",
    "import cv2\n",
    "import matplotlib.pyplot as plt\n",
    "import matplotlib\n",
    "import numpy as np\n",
    "from scipy.ndimage.filters import gaussian_filter\n",
    "import numpy as np\n",
    "import tensorflow as tf\n",
    "import time\n",
    "import matplotlib.pyplot as plt\n",
    "import matplotlib.image as mpimg\n",
    "import os\n",
    "import random\n",
    "%matplotlib inline\n",
    "from multiprocessing import Queue\n",
    "import pickle\n",
    "import cv2\n",
    "import csv\n",
    "from sklearn import preprocessing\n",
    "from sklearn.model_selection import train_test_split\n",
    "from sklearn.utils import shuffle\n",
    "from sklearn import preprocessing\n",
    "from keras.models import Sequential\n",
    "from keras.layers import Flatten,Dropout,Dense,ELU, Lambda, Activation\n",
    "from keras.layers import SpatialDropout2D,Cropping2D,Convolution2D,MaxPooling2D\n",
    "from sklearn.utils import shuffle\n",
    "from keras.regularizers import l2\n",
    "from keras.utils import np_utils\n",
    "from keras.layers import Dense, Dropout, Flatten\n",
    "from keras.layers import Conv2D, MaxPooling2D\n",
    "from keras import backend as K\n",
    "from keras.models import load_model\n",
    "#from keras.utils import plot_model\n",
    "from IPython.display import SVG\n",
    "from sklearn.preprocessing import MinMaxScaler\n",
    "from scipy.ndimage.filters import gaussian_filter\n",
    "import glob\n",
    "print (\"Packages loaded\")"
   ]
  },
  {
   "cell_type": "markdown",
   "metadata": {},
   "source": [
    "# Build the sekeleton estimation model"
   ]
  },
  {
   "cell_type": "code",
   "execution_count": 4,
   "metadata": {},
   "outputs": [],
   "source": [
    "weights_path = \"data/model_weights.h5\" \n",
    "model_skeleton = generate_pose_detection_model(6)\n",
    "model_skeleton.load_weights(weights_path)"
   ]
  },
  {
   "cell_type": "markdown",
   "metadata": {},
   "source": [
    "# Build the gesture claasification model"
   ]
  },
  {
   "cell_type": "code",
   "execution_count": 5,
   "metadata": {},
   "outputs": [
    {
     "ename": "FileNotFoundError",
     "evalue": "[Errno 2] No such file or directory: 'scaler.sav'",
     "output_type": "error",
     "traceback": [
      "\u001b[1;31m---------------------------------------------------------------------------\u001b[0m",
      "\u001b[1;31mFileNotFoundError\u001b[0m                         Traceback (most recent call last)",
      "\u001b[1;32m<ipython-input-5-7553929a9fac>\u001b[0m in \u001b[0;36m<module>\u001b[1;34m()\u001b[0m\n\u001b[0;32m      1\u001b[0m \u001b[0mscalerfile\u001b[0m \u001b[1;33m=\u001b[0m \u001b[1;34m'scaler.sav'\u001b[0m\u001b[1;33m\u001b[0m\u001b[0m\n\u001b[1;32m----> 2\u001b[1;33m \u001b[0mscaler\u001b[0m \u001b[1;33m=\u001b[0m \u001b[0mpickle\u001b[0m\u001b[1;33m.\u001b[0m\u001b[0mload\u001b[0m\u001b[1;33m(\u001b[0m\u001b[0mopen\u001b[0m\u001b[1;33m(\u001b[0m\u001b[0mscalerfile\u001b[0m\u001b[1;33m,\u001b[0m \u001b[1;34m'rb'\u001b[0m\u001b[1;33m)\u001b[0m\u001b[1;33m)\u001b[0m\u001b[1;33m\u001b[0m\u001b[0m\n\u001b[0m\u001b[0;32m      3\u001b[0m \u001b[0mmodel_gesture\u001b[0m \u001b[1;33m=\u001b[0m \u001b[0mload_model\u001b[0m\u001b[1;33m(\u001b[0m\u001b[1;34m'gesture_predict.h5'\u001b[0m\u001b[1;33m)\u001b[0m\u001b[1;33m\u001b[0m\u001b[0m\n",
      "\u001b[1;31mFileNotFoundError\u001b[0m: [Errno 2] No such file or directory: 'scaler.sav'"
     ]
    }
   ],
   "source": [
    "#scalerfile = 'scaler.sav'\n",
    "#scaler = pickle.load(open(scalerfile, 'rb'))\n",
    "model_gesture = load_model('gesture_predict.h5')"
   ]
  },
  {
   "cell_type": "markdown",
   "metadata": {},
   "source": [
    "# Load and visualize the testing image"
   ]
  },
  {
   "cell_type": "code",
   "execution_count": null,
   "metadata": {},
   "outputs": [],
   "source": [
    "test_image_path = \"sample_test/test1.jpg\"\n",
    "test_img = cv2.imread(test_image_path)\n",
    "test_img = cv2.resize(test_img, (500,500))\n",
    "plt.imshow(test_img[:,:,[2,1,0]])"
   ]
  },
  {
   "cell_type": "markdown",
   "metadata": {},
   "source": [
    "# Run the skeleton estimation model"
   ]
  },
  {
   "cell_type": "code",
   "execution_count": null,
   "metadata": {},
   "outputs": [],
   "source": [
    "test_img_copy = test_img\n",
    "test_img_copy = np.transpose(np.float32(test_img_copy[:,:,:,np.newaxis]), (3,0,1,2)) \n",
    "outs = model_skeleton.predict(test_img_copy)\n",
    "heatmap = np.squeeze(outs[1]) \n",
    "heatmap = cv2.resize(heatmap, (0,0), fx=8, fy=8, interpolation=cv2.INTER_CUBIC)\n",
    "heatmap = cv2.resize(heatmap, (test_img.shape[1], test_img.shape[0]), interpolation=cv2.INTER_CUBIC)\n",
    "skeleton = find_key_points(heatmap)"
   ]
  },
  {
   "cell_type": "code",
   "execution_count": null,
   "metadata": {},
   "outputs": [],
   "source": [
    "skeleton"
   ]
  },
  {
   "cell_type": "code",
   "execution_count": null,
   "metadata": {},
   "outputs": [],
   "source": [
    "plt.figure()\n",
    "plt.imshow(test_img[:,:,[2,1,0]])\n",
    "plt.imshow(heatmap[:,:,10],alpha=.5)"
   ]
  },
  {
   "cell_type": "markdown",
   "metadata": {},
   "source": [
    "# Visualize the skeleton"
   ]
  },
  {
   "cell_type": "code",
   "execution_count": null,
   "metadata": {},
   "outputs": [],
   "source": [
    "colors = [[255, 0, 0], [255, 85, 0], [255, 170, 0], [255, 255, 0], [170, 255, 0], [85, 255, 0], [0, 255, 0], \\\n",
    "          [0, 255, 85], [0, 255, 170], [0, 255, 255], [0, 170, 255], [0, 85, 255], [0, 0, 255], [85, 0, 255], \\\n",
    "          [170, 0, 255], [255, 0, 255], [255, 0, 170], [255, 0, 85]]\n",
    "img_In = cv2.imread(test_image_path)\n",
    "img_In = cv2.resize(img_In, (500,500))\n",
    "plt.figure()\n",
    "for i in range(18):\n",
    "    cv2.circle(img_In, skeleton[i][0][0:2], 4, colors[i], thickness=-1)\n",
    "plt.imshow(img_In[:,:,[2,1,0]])\n",
    "plt.figure()\n",
    "line_seg = [[0,1],[1,2],[2,3],[3,4],[1,5],[5,6],[6,7],[1,8],[8,9],[9,10],[1,11],[11,12],[12,13],[0,14],[0,15],[14,16],[15,17]]\n",
    "for i in range(len(line_seg)):\n",
    "    cv2.line(img_In, skeleton[line_seg[i][0]][0][0:2], skeleton[line_seg[i][1]][0][0:2], (0,255,0), 1) \n",
    "\n",
    "plt.imshow(img_In[:,:,[2,1,0]])"
   ]
  },
  {
   "cell_type": "markdown",
   "metadata": {},
   "source": [
    "# Construct the feature vector"
   ]
  },
  {
   "cell_type": "code",
   "execution_count": null,
   "metadata": {},
   "outputs": [],
   "source": [
    "raw_feature = []\n",
    "for i in range(18):\n",
    "    raw_feature.append(skeleton[i][0][0])\n",
    "    raw_feature.append(skeleton[i][0][1])\n",
    "raw_feature = np.array(raw_feature).reshape((1,36))"
   ]
  },
  {
   "cell_type": "code",
   "execution_count": null,
   "metadata": {},
   "outputs": [],
   "source": [
    "X_test = raw_feature[:,[2,3,4,5,6,7,8,9,10,11,12,13,14,15,16]]\n",
    "y_test = 1\n",
    "norm_vec_test = X_test\n",
    "norm_vec_test = np.zeros((X_test.shape[0],12))\n",
    "for i in range(X_test.shape[0]):\n",
    "    for j in range(3):\n",
    "        norm_vec_test[i,2*j]=(X_test[i,2*j+2]-X_test[i,2*j])/((X_test[i,2*j+2]-X_test[i,2*j])**2+(X_test[i,2*j+3]-X_test[i,2*j+1])**2)**0.5\n",
    "        norm_vec_test[i,2*j+1]=(X_test[i,2*j+3]-X_test[i,2*j+1])/((X_test[i,2*j+2]-X_test[i,2*j])**2+(X_test[i,2*j+3]-X_test[i,2*j+1])**2)**0.5\n",
    "    norm_vec_test[i,6] = (X_test[i,8]-X_test[i,0])/((X_test[i,8]-X_test[i,0])**2+(X_test[i,9]-X_test[i,1])**2)**0.5\n",
    "    norm_vec_test[i,7] = (X_test[i,9]-X_test[i,1])/((X_test[i,8]-X_test[i,0])**2+(X_test[i,9]-X_test[i,1])**2)**0.5\n",
    "    for j in range(2):\n",
    "        norm_vec_test[i,8+2*j]=(X_test[i,2*j+10]-X_test[i,2*j+8])/((X_test[i,2*j+10]-X_test[i,2*j+8])**2+(X_test[i,2*j+11]-X_test[i,2*j+9])**2)**0.5\n",
    "        norm_vec_test[i,9+2*j]=(X_test[i,2*j+11]-X_test[i,2*j+9])/((X_test[i,2*j+10]-X_test[i,2*j+8])**2+(X_test[i,2*j+11]-X_test[i,2*j+9])**2)**0.5 "
   ]
  },
  {
   "cell_type": "markdown",
   "metadata": {},
   "source": [
    "# Predict the gesture based on key points"
   ]
  },
  {
   "cell_type": "code",
   "execution_count": null,
   "metadata": {},
   "outputs": [],
   "source": [
    "X_test_normed = norm_vec_test\n",
    "plt.figure()\n",
    "plt.imshow(img_In)\n",
    "test_image_x = X_test_normed[0, :]\n",
    "test_image_y = 1\n",
    "X_test_cus = []\n",
    "X_test_cus.append(np.reshape(test_image_x,(12,1,1)))\n",
    "X_test_cus = np.array(X_test_cus)\n",
    "proba = model_gesture.predict(X_test_cus,batch_size = 1)\n",
    "plt.show()\n",
    "if test_image_y == 1:\n",
    "    print (\"The intention of the human is: Stopping the vehicle\")\n",
    "if test_image_y == 2:\n",
    "    print (\"The intention of the human is: Calling taxi\")\n",
    "if test_image_y == 2:\n",
    "    print (\"The intention of the human is: Lane changing\")\n",
    "print(\"The probability of Stopping the vehicle is {}\".format(proba[0,1]))\n",
    "print(\"The probability of lane changing is {}\".format(proba[0,0]))\n",
    "print(\"The probability of calling taxi is {}\".format(proba[0,2]))"
   ]
  },
  {
   "cell_type": "code",
   "execution_count": null,
   "metadata": {},
   "outputs": [],
   "source": []
  },
  {
   "cell_type": "code",
   "execution_count": null,
   "metadata": {},
   "outputs": [],
   "source": []
  }
 ],
 "metadata": {
  "kernelspec": {
   "display_name": "Python 3",
   "language": "python",
   "name": "python3"
  },
  "language_info": {
   "codemirror_mode": {
    "name": "ipython",
    "version": 3
   },
   "file_extension": ".py",
   "mimetype": "text/x-python",
   "name": "python",
   "nbconvert_exporter": "python",
   "pygments_lexer": "ipython3",
   "version": "3.5.2"
  },
  "widgets": {
   "state": {},
   "version": "1.1.2"
  }
 },
 "nbformat": 4,
 "nbformat_minor": 2
}
