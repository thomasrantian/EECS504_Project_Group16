{
 "cells": [
  {
   "cell_type": "code",
   "execution_count": 1,
   "metadata": {},
   "outputs": [
    {
     "name": "stderr",
     "output_type": "stream",
     "text": [
      "Using TensorFlow backend.\n"
     ]
    }
   ],
   "source": [
    "import numpy as np\n",
    "import tensorflow as tf\n",
    "import time\n",
    "import matplotlib.pyplot as plt\n",
    "import matplotlib.image as mpimg\n",
    "import os\n",
    "import random\n",
    "%matplotlib inline\n",
    "from multiprocessing import Queue\n",
    "import pickle\n",
    "import cv2\n",
    "import csv\n",
    "from sklearn import preprocessing\n",
    "from sklearn.model_selection import train_test_split\n",
    "from sklearn.utils import shuffle\n",
    "from sklearn import preprocessing\n",
    "from keras.models import Sequential\n",
    "from keras.layers import Flatten,Dropout,Dense,ELU, Lambda, Activation\n",
    "from keras.layers import SpatialDropout2D,Cropping2D,Convolution2D,MaxPooling2D\n",
    "from sklearn.utils import shuffle\n",
    "from keras.regularizers import l2\n",
    "from keras.utils import np_utils\n",
    "from keras.layers import Dense, Dropout, Flatten\n",
    "from keras.layers import Conv2D, MaxPooling2D\n",
    "from keras import backend as K\n",
    "from keras.models import load_model\n",
    "#from keras.utils import plot_model\n",
    "from IPython.display import SVG\n",
    "from sklearn.preprocessing import MinMaxScaler\n",
    "import glob"
   ]
  },
  {
   "cell_type": "markdown",
   "metadata": {},
   "source": [
    "# Load the sample training data"
   ]
  },
  {
   "cell_type": "code",
   "execution_count": 2,
   "metadata": {},
   "outputs": [
    {
     "name": "stdout",
     "output_type": "stream",
     "text": [
      "Traing sample data loaded!\n"
     ]
    }
   ],
   "source": [
    "# Load the training data\n",
    "X_sample = np.load('X_sample.npy')\n",
    "Y_sample = np.load('Y_sample.npy')\n",
    "\n",
    "print (\"Traing sample data loaded!\")"
   ]
  },
  {
   "cell_type": "markdown",
   "metadata": {},
   "source": [
    "# Normalize the data to construct the feature vector"
   ]
  },
  {
   "cell_type": "code",
   "execution_count": 3,
   "metadata": {},
   "outputs": [],
   "source": [
    "norm_vec = np.zeros((X_sample.shape[0],12))\n",
    "for i in range(X_sample.shape[0]):\n",
    "    for j in range(3):\n",
    "        norm_vec[i,2*j]=(X_sample[i,2*j+2]-X_sample[i,2*j])/((X_sample[i,2*j+2]-X_sample[i,2*j])**2+(X_sample[i,2*j+3]-X_sample[i,2*j+1])**2)**0.5\n",
    "        norm_vec[i,2*j+1]=(X_sample[i,2*j+3]-X_sample[i,2*j+1])/((X_sample[i,2*j+2]-X_sample[i,2*j])**2+(X_sample[i,2*j+3]-X_sample[i,2*j+1])**2)**0.5\n",
    "    norm_vec[i,6] = (X_sample[i,8]-X_sample[i,0])/((X_sample[i,8]-X_sample[i,0])**2+(X_sample[i,9]-X_sample[i,1])**2)**0.5\n",
    "    norm_vec[i,7] = (X_sample[i,9]-X_sample[i,1])/((X_sample[i,8]-X_sample[i,0])**2+(X_sample[i,9]-X_sample[i,1])**2)**0.5\n",
    "    for j in range(2):\n",
    "        norm_vec[i,8+2*j]=(X_sample[i,2*j+10]-X_sample[i,2*j+8])/((X_sample[i,2*j+10]-X_sample[i,2*j+8])**2+(X_sample[i,2*j+11]-X_sample[i,2*j+9])**2)**0.5\n",
    "        norm_vec[i,9+2*j]=(X_sample[i,2*j+11]-X_sample[i,2*j+9])/((X_sample[i,2*j+10]-X_sample[i,2*j+8])**2+(X_sample[i,2*j+11]-X_sample[i,2*j+9])**2)**0.5\n",
    "#scaler = MinMaxScaler(feature_range=(0, 1))\n",
    "#scalerfile = 'scaler.sav'\n",
    "#pickle.dump(scaler, open(scalerfile, 'wb'))\n",
    "#norm_vec = scaler.fit_transform(norm_vec)"
   ]
  },
  {
   "cell_type": "markdown",
   "metadata": {},
   "source": [
    "# Prepare for training"
   ]
  },
  {
   "cell_type": "code",
   "execution_count": 4,
   "metadata": {},
   "outputs": [],
   "source": [
    "# re-shape the training data for training\n",
    "X_samples = []\n",
    "for index in range(0,len(norm_vec)):\n",
    "    X_samples.append(np.reshape(norm_vec[index], (12, 1, 1)))\n",
    "X_samples = np.array(X_samples)\n",
    "Y_samples = np_utils.to_categorical(np.array(Y_sample), 3)"
   ]
  },
  {
   "cell_type": "code",
   "execution_count": 5,
   "metadata": {},
   "outputs": [],
   "source": [
    "X_train, X_test, y_train, y_test = train_test_split(X_samples, Y_samples, test_size=0.2, random_state= 18)"
   ]
  },
  {
   "cell_type": "code",
   "execution_count": 6,
   "metadata": {},
   "outputs": [
    {
     "name": "stdout",
     "output_type": "stream",
     "text": [
      "_________________________________________________________________\n",
      "Layer (type)                 Output Shape              Param #   \n",
      "=================================================================\n",
      "conv2d_1 (Conv2D)            (None, 11, 1, 14)         42        \n",
      "_________________________________________________________________\n",
      "conv2d_2 (Conv2D)            (None, 10, 1, 28)         812       \n",
      "_________________________________________________________________\n",
      "conv2d_3 (Conv2D)            (None, 9, 1, 28)          1596      \n",
      "_________________________________________________________________\n",
      "flatten_1 (Flatten)          (None, 252)               0         \n",
      "_________________________________________________________________\n",
      "dense_1 (Dense)              (None, 30)                7590      \n",
      "_________________________________________________________________\n",
      "dense_2 (Dense)              (None, 20)                620       \n",
      "_________________________________________________________________\n",
      "dense_3 (Dense)              (None, 10)                210       \n",
      "_________________________________________________________________\n",
      "dense_4 (Dense)              (None, 3)                 33        \n",
      "=================================================================\n",
      "Total params: 10,903\n",
      "Trainable params: 10,903\n",
      "Non-trainable params: 0\n",
      "_________________________________________________________________\n"
     ]
    },
    {
     "name": "stderr",
     "output_type": "stream",
     "text": [
      "C:\\Users\\tianr\\AppData\\Local\\Continuum\\anaconda3\\envs\\eecs504-env\\lib\\site-packages\\ipykernel_launcher.py:17: UserWarning: The `nb_epoch` argument in `fit` has been renamed `epochs`.\n"
     ]
    },
    {
     "name": "stdout",
     "output_type": "stream",
     "text": [
      "Epoch 1/5\n",
      "1331/1331 [==============================] - 0s 331us/step - loss: 0.9046 - acc: 0.6319\n",
      "Epoch 2/5\n",
      "1331/1331 [==============================] - 0s 97us/step - loss: 0.5130 - acc: 0.8189\n",
      "Epoch 3/5\n",
      "1331/1331 [==============================] - 0s 84us/step - loss: 0.3404 - acc: 0.8813\n",
      "Epoch 4/5\n",
      "1331/1331 [==============================] - 0s 85us/step - loss: 0.2531 - acc: 0.9271\n",
      "Epoch 5/5\n",
      "1331/1331 [==============================] - 0s 82us/step - loss: 0.1888 - acc: 0.9474\n"
     ]
    }
   ],
   "source": [
    "model = Sequential()\n",
    "model.add(Conv2D(14, kernel_size=(2, 1),\n",
    "                 activation='relu',\n",
    "                 input_shape=(12,1,1)))\n",
    "model.add(Conv2D(28, (2, 1), activation='relu'))\n",
    "model.add(Conv2D(28, (2, 1), activation='relu'))\n",
    "#model.add(Conv2D(64, (2, 1), activation='relu'))\n",
    "model.add(Flatten())\n",
    "model.add(Dense(30))\n",
    "model.add(Dense(20))\n",
    "model.add(Dense(10))\n",
    "model.add(Dense(3, activation='softmax'))\n",
    "model.summary()\n",
    "model.compile(loss='categorical_crossentropy',\n",
    "              optimizer='adam',\n",
    "              metrics=['accuracy'])\n",
    "history = model.fit(X_train, y_train, batch_size =32, nb_epoch = 5, verbose=1)"
   ]
  },
  {
   "cell_type": "code",
   "execution_count": 8,
   "metadata": {},
   "outputs": [
    {
     "name": "stdout",
     "output_type": "stream",
     "text": [
      "Work is finished\n",
      "333/333 [==============================] - 0s 42us/step\n",
      "[0.19652683131240151, 0.96096096096096095]\n"
     ]
    }
   ],
   "source": [
    "model.save('gesture_predict.h5')\n",
    "print('Work is finished')\n",
    "score = model.evaluate(X_test, y_test, verbose=1)\n",
    "print(score)"
   ]
  },
  {
   "cell_type": "code",
   "execution_count": null,
   "metadata": {},
   "outputs": [],
   "source": []
  }
 ],
 "metadata": {
  "kernelspec": {
   "display_name": "Python 3",
   "language": "python",
   "name": "python3"
  },
  "language_info": {
   "codemirror_mode": {
    "name": "ipython",
    "version": 3
   },
   "file_extension": ".py",
   "mimetype": "text/x-python",
   "name": "python",
   "nbconvert_exporter": "python",
   "pygments_lexer": "ipython3",
   "version": "3.5.2"
  },
  "widgets": {
   "state": {},
   "version": "1.1.2"
  }
 },
 "nbformat": 4,
 "nbformat_minor": 2
}
